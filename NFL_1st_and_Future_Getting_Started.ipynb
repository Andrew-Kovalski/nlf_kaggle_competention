{
  "nbformat": 4,
  "nbformat_minor": 0,
  "metadata": {
    "colab": {
      "name": "NFL 1st and Future Getting Started.ipynb",
      "provenance": [],
      "collapsed_sections": [],
      "machine_shape": "hm"
    },
    "kernelspec": {
      "name": "python3",
      "display_name": "Python 3"
    },
    "accelerator": "GPU",
    "widgets": {
      "application/vnd.jupyter.widget-state+json": {
        "4110b8a844274d75851b9412a8adfbdb": {
          "model_module": "@jupyter-widgets/controls",
          "model_name": "HBoxModel",
          "state": {
            "_view_name": "HBoxView",
            "_dom_classes": [],
            "_model_name": "HBoxModel",
            "_view_module": "@jupyter-widgets/controls",
            "_model_module_version": "1.5.0",
            "_view_count": null,
            "_view_module_version": "1.5.0",
            "box_style": "",
            "layout": "IPY_MODEL_6c6580a9d206403eb79ee8270f0e7efb",
            "_model_module": "@jupyter-widgets/controls",
            "children": [
              "IPY_MODEL_6c5a648e43584bd9890239a4e4e7a99f",
              "IPY_MODEL_09ebfbac5f3f46fc9172dd9c95ca8854"
            ]
          }
        },
        "6c6580a9d206403eb79ee8270f0e7efb": {
          "model_module": "@jupyter-widgets/base",
          "model_name": "LayoutModel",
          "state": {
            "_view_name": "LayoutView",
            "grid_template_rows": null,
            "right": null,
            "justify_content": null,
            "_view_module": "@jupyter-widgets/base",
            "overflow": null,
            "_model_module_version": "1.2.0",
            "_view_count": null,
            "flex_flow": null,
            "width": null,
            "min_width": null,
            "border": null,
            "align_items": null,
            "bottom": null,
            "_model_module": "@jupyter-widgets/base",
            "top": null,
            "grid_column": null,
            "overflow_y": null,
            "overflow_x": null,
            "grid_auto_flow": null,
            "grid_area": null,
            "grid_template_columns": null,
            "flex": null,
            "_model_name": "LayoutModel",
            "justify_items": null,
            "grid_row": null,
            "max_height": null,
            "align_content": null,
            "visibility": null,
            "align_self": null,
            "height": null,
            "min_height": null,
            "padding": null,
            "grid_auto_rows": null,
            "grid_gap": null,
            "max_width": null,
            "order": null,
            "_view_module_version": "1.2.0",
            "grid_template_areas": null,
            "object_position": null,
            "object_fit": null,
            "grid_auto_columns": null,
            "margin": null,
            "display": null,
            "left": null
          }
        },
        "6c5a648e43584bd9890239a4e4e7a99f": {
          "model_module": "@jupyter-widgets/controls",
          "model_name": "FloatProgressModel",
          "state": {
            "_view_name": "ProgressView",
            "style": "IPY_MODEL_52d50c794f81484699551d3afffb561e",
            "_dom_classes": [],
            "description": "100%",
            "_model_name": "FloatProgressModel",
            "bar_style": "success",
            "max": 167502836,
            "_view_module": "@jupyter-widgets/controls",
            "_model_module_version": "1.5.0",
            "value": 167502836,
            "_view_count": null,
            "_view_module_version": "1.5.0",
            "orientation": "horizontal",
            "min": 0,
            "description_tooltip": null,
            "_model_module": "@jupyter-widgets/controls",
            "layout": "IPY_MODEL_0d30f0dda27c4ad291ba90de6c555dba"
          }
        },
        "09ebfbac5f3f46fc9172dd9c95ca8854": {
          "model_module": "@jupyter-widgets/controls",
          "model_name": "HTMLModel",
          "state": {
            "_view_name": "HTMLView",
            "style": "IPY_MODEL_a339022df07f4057af783d3ab81c77f4",
            "_dom_classes": [],
            "description": "",
            "_model_name": "HTMLModel",
            "placeholder": "​",
            "_view_module": "@jupyter-widgets/controls",
            "_model_module_version": "1.5.0",
            "value": " 160M/160M [01:09&lt;00:00, 2.43MB/s]",
            "_view_count": null,
            "_view_module_version": "1.5.0",
            "description_tooltip": null,
            "_model_module": "@jupyter-widgets/controls",
            "layout": "IPY_MODEL_219bf7cd63c346118c9f5eab1a20dcbe"
          }
        },
        "52d50c794f81484699551d3afffb561e": {
          "model_module": "@jupyter-widgets/controls",
          "model_name": "ProgressStyleModel",
          "state": {
            "_view_name": "StyleView",
            "_model_name": "ProgressStyleModel",
            "description_width": "initial",
            "_view_module": "@jupyter-widgets/base",
            "_model_module_version": "1.5.0",
            "_view_count": null,
            "_view_module_version": "1.2.0",
            "bar_color": null,
            "_model_module": "@jupyter-widgets/controls"
          }
        },
        "0d30f0dda27c4ad291ba90de6c555dba": {
          "model_module": "@jupyter-widgets/base",
          "model_name": "LayoutModel",
          "state": {
            "_view_name": "LayoutView",
            "grid_template_rows": null,
            "right": null,
            "justify_content": null,
            "_view_module": "@jupyter-widgets/base",
            "overflow": null,
            "_model_module_version": "1.2.0",
            "_view_count": null,
            "flex_flow": null,
            "width": null,
            "min_width": null,
            "border": null,
            "align_items": null,
            "bottom": null,
            "_model_module": "@jupyter-widgets/base",
            "top": null,
            "grid_column": null,
            "overflow_y": null,
            "overflow_x": null,
            "grid_auto_flow": null,
            "grid_area": null,
            "grid_template_columns": null,
            "flex": null,
            "_model_name": "LayoutModel",
            "justify_items": null,
            "grid_row": null,
            "max_height": null,
            "align_content": null,
            "visibility": null,
            "align_self": null,
            "height": null,
            "min_height": null,
            "padding": null,
            "grid_auto_rows": null,
            "grid_gap": null,
            "max_width": null,
            "order": null,
            "_view_module_version": "1.2.0",
            "grid_template_areas": null,
            "object_position": null,
            "object_fit": null,
            "grid_auto_columns": null,
            "margin": null,
            "display": null,
            "left": null
          }
        },
        "a339022df07f4057af783d3ab81c77f4": {
          "model_module": "@jupyter-widgets/controls",
          "model_name": "DescriptionStyleModel",
          "state": {
            "_view_name": "StyleView",
            "_model_name": "DescriptionStyleModel",
            "description_width": "",
            "_view_module": "@jupyter-widgets/base",
            "_model_module_version": "1.5.0",
            "_view_count": null,
            "_view_module_version": "1.2.0",
            "_model_module": "@jupyter-widgets/controls"
          }
        },
        "219bf7cd63c346118c9f5eab1a20dcbe": {
          "model_module": "@jupyter-widgets/base",
          "model_name": "LayoutModel",
          "state": {
            "_view_name": "LayoutView",
            "grid_template_rows": null,
            "right": null,
            "justify_content": null,
            "_view_module": "@jupyter-widgets/base",
            "overflow": null,
            "_model_module_version": "1.2.0",
            "_view_count": null,
            "flex_flow": null,
            "width": null,
            "min_width": null,
            "border": null,
            "align_items": null,
            "bottom": null,
            "_model_module": "@jupyter-widgets/base",
            "top": null,
            "grid_column": null,
            "overflow_y": null,
            "overflow_x": null,
            "grid_auto_flow": null,
            "grid_area": null,
            "grid_template_columns": null,
            "flex": null,
            "_model_name": "LayoutModel",
            "justify_items": null,
            "grid_row": null,
            "max_height": null,
            "align_content": null,
            "visibility": null,
            "align_self": null,
            "height": null,
            "min_height": null,
            "padding": null,
            "grid_auto_rows": null,
            "grid_gap": null,
            "max_width": null,
            "order": null,
            "_view_module_version": "1.2.0",
            "grid_template_areas": null,
            "object_position": null,
            "object_fit": null,
            "grid_auto_columns": null,
            "margin": null,
            "display": null,
            "left": null
          }
        },
        "ae5e7096e8cc4412944946a9ed12c541": {
          "model_module": "@jupyter-widgets/controls",
          "model_name": "HBoxModel",
          "state": {
            "_view_name": "HBoxView",
            "_dom_classes": [],
            "_model_name": "HBoxModel",
            "_view_module": "@jupyter-widgets/controls",
            "_model_module_version": "1.5.0",
            "_view_count": null,
            "_view_module_version": "1.5.0",
            "box_style": "",
            "layout": "IPY_MODEL_174a08c86b8544d986294c8fa7d77e92",
            "_model_module": "@jupyter-widgets/controls",
            "children": [
              "IPY_MODEL_c75fa5ace6a247ff972ca4b50d6d3418",
              "IPY_MODEL_46725c51946f4925820c93ad5efe210d"
            ]
          }
        },
        "174a08c86b8544d986294c8fa7d77e92": {
          "model_module": "@jupyter-widgets/base",
          "model_name": "LayoutModel",
          "state": {
            "_view_name": "LayoutView",
            "grid_template_rows": null,
            "right": null,
            "justify_content": null,
            "_view_module": "@jupyter-widgets/base",
            "overflow": null,
            "_model_module_version": "1.2.0",
            "_view_count": null,
            "flex_flow": null,
            "width": null,
            "min_width": null,
            "border": null,
            "align_items": null,
            "bottom": null,
            "_model_module": "@jupyter-widgets/base",
            "top": null,
            "grid_column": null,
            "overflow_y": null,
            "overflow_x": null,
            "grid_auto_flow": null,
            "grid_area": null,
            "grid_template_columns": null,
            "flex": null,
            "_model_name": "LayoutModel",
            "justify_items": null,
            "grid_row": null,
            "max_height": null,
            "align_content": null,
            "visibility": null,
            "align_self": null,
            "height": null,
            "min_height": null,
            "padding": null,
            "grid_auto_rows": null,
            "grid_gap": null,
            "max_width": null,
            "order": null,
            "_view_module_version": "1.2.0",
            "grid_template_areas": null,
            "object_position": null,
            "object_fit": null,
            "grid_auto_columns": null,
            "margin": null,
            "display": null,
            "left": null
          }
        },
        "c75fa5ace6a247ff972ca4b50d6d3418": {
          "model_module": "@jupyter-widgets/controls",
          "model_name": "FloatProgressModel",
          "state": {
            "_view_name": "ProgressView",
            "style": "IPY_MODEL_683a930a5b804f688a1a91c2baefe57a",
            "_dom_classes": [],
            "description": "100%",
            "_model_name": "FloatProgressModel",
            "bar_style": "success",
            "max": 167502836,
            "_view_module": "@jupyter-widgets/controls",
            "_model_module_version": "1.5.0",
            "value": 167502836,
            "_view_count": null,
            "_view_module_version": "1.5.0",
            "orientation": "horizontal",
            "min": 0,
            "description_tooltip": null,
            "_model_module": "@jupyter-widgets/controls",
            "layout": "IPY_MODEL_246e08ae17b74627b34ae402a3bc8391"
          }
        },
        "46725c51946f4925820c93ad5efe210d": {
          "model_module": "@jupyter-widgets/controls",
          "model_name": "HTMLModel",
          "state": {
            "_view_name": "HTMLView",
            "style": "IPY_MODEL_8f2af8bba5a747049055a5e5d248667b",
            "_dom_classes": [],
            "description": "",
            "_model_name": "HTMLModel",
            "placeholder": "​",
            "_view_module": "@jupyter-widgets/controls",
            "_model_module_version": "1.5.0",
            "value": " 160M/160M [12:34&lt;00:00, 222kB/s]",
            "_view_count": null,
            "_view_module_version": "1.5.0",
            "description_tooltip": null,
            "_model_module": "@jupyter-widgets/controls",
            "layout": "IPY_MODEL_a5ff14d3dc634af6887c194922fcf427"
          }
        },
        "683a930a5b804f688a1a91c2baefe57a": {
          "model_module": "@jupyter-widgets/controls",
          "model_name": "ProgressStyleModel",
          "state": {
            "_view_name": "StyleView",
            "_model_name": "ProgressStyleModel",
            "description_width": "initial",
            "_view_module": "@jupyter-widgets/base",
            "_model_module_version": "1.5.0",
            "_view_count": null,
            "_view_module_version": "1.2.0",
            "bar_color": null,
            "_model_module": "@jupyter-widgets/controls"
          }
        },
        "246e08ae17b74627b34ae402a3bc8391": {
          "model_module": "@jupyter-widgets/base",
          "model_name": "LayoutModel",
          "state": {
            "_view_name": "LayoutView",
            "grid_template_rows": null,
            "right": null,
            "justify_content": null,
            "_view_module": "@jupyter-widgets/base",
            "overflow": null,
            "_model_module_version": "1.2.0",
            "_view_count": null,
            "flex_flow": null,
            "width": null,
            "min_width": null,
            "border": null,
            "align_items": null,
            "bottom": null,
            "_model_module": "@jupyter-widgets/base",
            "top": null,
            "grid_column": null,
            "overflow_y": null,
            "overflow_x": null,
            "grid_auto_flow": null,
            "grid_area": null,
            "grid_template_columns": null,
            "flex": null,
            "_model_name": "LayoutModel",
            "justify_items": null,
            "grid_row": null,
            "max_height": null,
            "align_content": null,
            "visibility": null,
            "align_self": null,
            "height": null,
            "min_height": null,
            "padding": null,
            "grid_auto_rows": null,
            "grid_gap": null,
            "max_width": null,
            "order": null,
            "_view_module_version": "1.2.0",
            "grid_template_areas": null,
            "object_position": null,
            "object_fit": null,
            "grid_auto_columns": null,
            "margin": null,
            "display": null,
            "left": null
          }
        },
        "8f2af8bba5a747049055a5e5d248667b": {
          "model_module": "@jupyter-widgets/controls",
          "model_name": "DescriptionStyleModel",
          "state": {
            "_view_name": "StyleView",
            "_model_name": "DescriptionStyleModel",
            "description_width": "",
            "_view_module": "@jupyter-widgets/base",
            "_model_module_version": "1.5.0",
            "_view_count": null,
            "_view_module_version": "1.2.0",
            "_model_module": "@jupyter-widgets/controls"
          }
        },
        "a5ff14d3dc634af6887c194922fcf427": {
          "model_module": "@jupyter-widgets/base",
          "model_name": "LayoutModel",
          "state": {
            "_view_name": "LayoutView",
            "grid_template_rows": null,
            "right": null,
            "justify_content": null,
            "_view_module": "@jupyter-widgets/base",
            "overflow": null,
            "_model_module_version": "1.2.0",
            "_view_count": null,
            "flex_flow": null,
            "width": null,
            "min_width": null,
            "border": null,
            "align_items": null,
            "bottom": null,
            "_model_module": "@jupyter-widgets/base",
            "top": null,
            "grid_column": null,
            "overflow_y": null,
            "overflow_x": null,
            "grid_auto_flow": null,
            "grid_area": null,
            "grid_template_columns": null,
            "flex": null,
            "_model_name": "LayoutModel",
            "justify_items": null,
            "grid_row": null,
            "max_height": null,
            "align_content": null,
            "visibility": null,
            "align_self": null,
            "height": null,
            "min_height": null,
            "padding": null,
            "grid_auto_rows": null,
            "grid_gap": null,
            "max_width": null,
            "order": null,
            "_view_module_version": "1.2.0",
            "grid_template_areas": null,
            "object_position": null,
            "object_fit": null,
            "grid_auto_columns": null,
            "margin": null,
            "display": null,
            "left": null
          }
        }
      }
    }
  },
  "cells": [
    {
      "cell_type": "code",
      "metadata": {
        "colab": {
          "base_uri": "https://localhost:8080/"
        },
        "id": "8C_ZqfGnUhTv",
        "outputId": "2d871b33-7d4e-4f23-da27-e9efa865384c"
      },
      "source": [
        "!pip install detecto"
      ],
      "execution_count": 2,
      "outputs": [
        {
          "output_type": "stream",
          "text": [
            "Collecting detecto\n",
            "  Downloading https://files.pythonhosted.org/packages/41/2f/5ce01e8aa1c3f9ab3c66a14309a5358f0ece27a80defa33311b1fb929f18/detecto-1.2.0-py3-none-any.whl\n",
            "Requirement already satisfied: opencv-python in /usr/local/lib/python3.6/dist-packages (from detecto) (4.1.2.30)\n",
            "Requirement already satisfied: torchvision in /usr/local/lib/python3.6/dist-packages (from detecto) (0.8.1+cu101)\n",
            "Requirement already satisfied: pandas in /usr/local/lib/python3.6/dist-packages (from detecto) (1.1.5)\n",
            "Requirement already satisfied: torch in /usr/local/lib/python3.6/dist-packages (from detecto) (1.7.0+cu101)\n",
            "Requirement already satisfied: matplotlib in /usr/local/lib/python3.6/dist-packages (from detecto) (3.2.2)\n",
            "Requirement already satisfied: numpy>=1.11.3 in /usr/local/lib/python3.6/dist-packages (from opencv-python->detecto) (1.19.4)\n",
            "Requirement already satisfied: pillow>=4.1.1 in /usr/local/lib/python3.6/dist-packages (from torchvision->detecto) (7.0.0)\n",
            "Requirement already satisfied: pytz>=2017.2 in /usr/local/lib/python3.6/dist-packages (from pandas->detecto) (2018.9)\n",
            "Requirement already satisfied: python-dateutil>=2.7.3 in /usr/local/lib/python3.6/dist-packages (from pandas->detecto) (2.8.1)\n",
            "Requirement already satisfied: future in /usr/local/lib/python3.6/dist-packages (from torch->detecto) (0.16.0)\n",
            "Requirement already satisfied: typing-extensions in /usr/local/lib/python3.6/dist-packages (from torch->detecto) (3.7.4.3)\n",
            "Requirement already satisfied: dataclasses in /usr/local/lib/python3.6/dist-packages (from torch->detecto) (0.8)\n",
            "Requirement already satisfied: kiwisolver>=1.0.1 in /usr/local/lib/python3.6/dist-packages (from matplotlib->detecto) (1.3.1)\n",
            "Requirement already satisfied: cycler>=0.10 in /usr/local/lib/python3.6/dist-packages (from matplotlib->detecto) (0.10.0)\n",
            "Requirement already satisfied: pyparsing!=2.0.4,!=2.1.2,!=2.1.6,>=2.0.1 in /usr/local/lib/python3.6/dist-packages (from matplotlib->detecto) (2.4.7)\n",
            "Requirement already satisfied: six>=1.5 in /usr/local/lib/python3.6/dist-packages (from python-dateutil>=2.7.3->pandas->detecto) (1.15.0)\n",
            "Installing collected packages: detecto\n",
            "Successfully installed detecto-1.2.0\n"
          ],
          "name": "stdout"
        }
      ]
    },
    {
      "cell_type": "code",
      "metadata": {
        "colab": {
          "base_uri": "https://localhost:8080/"
        },
        "id": "tqgFm4N09AcR",
        "outputId": "08dcd802-e638-45fc-d463-f31aab764fb0"
      },
      "source": [
        "from tqdm import tqdm\r\n",
        "from google.colab import drive\r\n",
        "drive.mount('/content/drive')"
      ],
      "execution_count": 1,
      "outputs": [
        {
          "output_type": "stream",
          "text": [
            "Mounted at /content/drive\n"
          ],
          "name": "stdout"
        }
      ]
    },
    {
      "cell_type": "code",
      "metadata": {
        "colab": {
          "base_uri": "https://localhost:8080/",
          "height": 240
        },
        "id": "54_OO0kdH6_e",
        "outputId": "ea3a8e6f-5a30-40e0-99b8-e38ddd78df52"
      },
      "source": [
        "from torchvision import transforms\r\n",
        "from detecto import core, utils, visualize\r\n",
        "\r\n",
        "\r\n",
        "# Specify a list of transformations for our dataset to apply on our images\r\n",
        "transform_img = transforms.Compose([\r\n",
        "    transforms.ToPILImage(),\r\n",
        "    transforms.Resize(800),\r\n",
        "    transforms.RandomHorizontalFlip(0.5),\r\n",
        "    transforms.ToTensor(),\r\n",
        "    utils.normalize_transform(),\r\n",
        "])\r\n",
        "\r\n",
        "dataset = core.Dataset('/content/train.csv', '/content/drive/MyDrive/nfl_impact_detection/kaggle_train_frame/', transform=transform_img)\r\n",
        "\r\n",
        "# dataset[i] returns a tuple containing our transformed image and\r\n",
        "# and a dictionary containing label and box data\r\n",
        "image, target = dataset[2030]\r\n",
        "\r\n",
        "# Show our image along with the box. Note: it may\r\n",
        "# be colored oddly due to being normalized by the \r\n",
        "# dataset and then reverse-normalized for plotting\r\n",
        "visualize.show_labeled_image(image, target['boxes'], target['labels'])"
      ],
      "execution_count": null,
      "outputs": [
        {
          "output_type": "display_data",
          "data": {
            "image/png": "[encoded data removed]",
            "text/plain": [
              "<Figure size 432x288 with 1 Axes>"
            ]
          },
          "metadata": {
            "tags": [],
            "needs_background": "light"
          }
        }
      ]
    },
    {
      "cell_type": "code",
      "metadata": {
        "colab": {
          "base_uri": "https://localhost:8080/",
          "height": 1000,
          "referenced_widgets": [
            "4110b8a844274d75851b9412a8adfbdb",
            "6c6580a9d206403eb79ee8270f0e7efb",
            "6c5a648e43584bd9890239a4e4e7a99f",
            "09ebfbac5f3f46fc9172dd9c95ca8854",
            "52d50c794f81484699551d3afffb561e",
            "0d30f0dda27c4ad291ba90de6c555dba",
            "a339022df07f4057af783d3ab81c77f4",
            "219bf7cd63c346118c9f5eab1a20dcbe"
          ]
        },
        "id": "B3vHnKyvyzxZ",
        "outputId": "7be73636-0d66-4f33-bb97-d24b311e73b2"
      },
      "source": [
        "import matplotlib.pyplot as plt\r\n",
        "\r\n",
        "# Create our validation dataset\r\n",
        "val_dataset = core.Dataset('val.csv', '/content/drive/MyDrive/nfl_impact_detection/kaggle_train_frame/')\r\n",
        "\r\n",
        "# Create the loader for our training dataset\r\n",
        "loader = core.DataLoader(dataset, batch_size=4, shuffle=True)\r\n",
        "\r\n",
        "# Create our model, passing in all unique classes we're predicting\r\n",
        "# Note: make sure these match exactly with the labels in the XML/CSV files!\r\n",
        "model = core.Model(['Helmet'], device='cuda')\r\n",
        "\r\n",
        "# Train the model! This step can take a while, so make sure you\r\n",
        "# the GPU is turned on in Edit -> Notebook settings\r\n",
        "losses = model.fit(loader, val_dataset, epochs=7, verbose=True)\r\n",
        "\r\n",
        "# Plot the accuracy over time\r\n",
        "plt.plot(losses)\r\n",
        "plt.show()"
      ],
      "execution_count": null,
      "outputs": [
        {
          "output_type": "stream",
          "text": [
            "Downloading: \"https://download.pytorch.org/models/fasterrcnn_resnet50_fpn_coco-258fb6c6.pth\" to /root/.cache/torch/hub/checkpoints/fasterrcnn_resnet50_fpn_coco-258fb6c6.pth\n"
          ],
          "name": "stderr"
        },
        {
          "output_type": "display_data",
          "data": {
            "application/vnd.jupyter.widget-view+json": {
              "model_id": "4110b8a844274d75851b9412a8adfbdb",
              "version_minor": 0,
              "version_major": 2
            },
            "text/plain": [
              "HBox(children=(FloatProgress(value=0.0, max=167502836.0), HTML(value='')))"
            ]
          },
          "metadata": {
            "tags": []
          }
        },
        {
          "output_type": "stream",
          "text": [
            "\n"
          ],
          "name": "stdout"
        },
        {
          "output_type": "stream",
          "text": [
            "\r  0%|          | 0/784 [00:00<?, ?it/s]"
          ],
          "name": "stderr"
        },
        {
          "output_type": "stream",
          "text": [
            "Epoch 1 of 7\n",
            "Begin iterating over training dataset\n"
          ],
          "name": "stdout"
        },
        {
          "output_type": "stream",
          "text": [
            "100%|██████████| 784/784 [41:44<00:00,  3.19s/it]\n",
            "  0%|          | 0/891 [00:00<?, ?it/s]"
          ],
          "name": "stderr"
        },
        {
          "output_type": "stream",
          "text": [
            "Begin iterating over validation dataset\n"
          ],
          "name": "stdout"
        },
        {
          "output_type": "stream",
          "text": [
            "100%|██████████| 891/891 [08:07<00:00,  1.83it/s]\n",
            "  0%|          | 0/784 [00:00<?, ?it/s]"
          ],
          "name": "stderr"
        },
        {
          "output_type": "stream",
          "text": [
            "Loss: 0.10774213744170115\n",
            "Epoch 2 of 7\n",
            "Begin iterating over training dataset\n"
          ],
          "name": "stdout"
        },
        {
          "output_type": "stream",
          "text": [
            "100%|██████████| 784/784 [05:41<00:00,  2.30it/s]\n",
            "  0%|          | 1/891 [00:00<01:51,  7.96it/s]"
          ],
          "name": "stderr"
        },
        {
          "output_type": "stream",
          "text": [
            "Begin iterating over validation dataset\n"
          ],
          "name": "stdout"
        },
        {
          "output_type": "stream",
          "text": [
            "100%|██████████| 891/891 [01:16<00:00, 11.63it/s]\n",
            "  0%|          | 0/784 [00:00<?, ?it/s]"
          ],
          "name": "stderr"
        },
        {
          "output_type": "stream",
          "text": [
            "Loss: 0.09098542980482859\n",
            "Epoch 3 of 7\n",
            "Begin iterating over training dataset\n"
          ],
          "name": "stdout"
        },
        {
          "output_type": "stream",
          "text": [
            "100%|██████████| 784/784 [05:41<00:00,  2.30it/s]\n",
            "  0%|          | 1/891 [00:00<01:52,  7.93it/s]"
          ],
          "name": "stderr"
        },
        {
          "output_type": "stream",
          "text": [
            "Begin iterating over validation dataset\n"
          ],
          "name": "stdout"
        },
        {
          "output_type": "stream",
          "text": [
            "100%|██████████| 891/891 [01:16<00:00, 11.70it/s]\n",
            "  0%|          | 0/784 [00:00<?, ?it/s]"
          ],
          "name": "stderr"
        },
        {
          "output_type": "stream",
          "text": [
            "Loss: 0.0881217485709235\n",
            "Epoch 4 of 7\n",
            "Begin iterating over training dataset\n"
          ],
          "name": "stdout"
        },
        {
          "output_type": "stream",
          "text": [
            "100%|██████████| 784/784 [05:36<00:00,  2.33it/s]\n",
            "  0%|          | 1/891 [00:00<01:53,  7.81it/s]"
          ],
          "name": "stderr"
        },
        {
          "output_type": "stream",
          "text": [
            "Begin iterating over validation dataset\n"
          ],
          "name": "stdout"
        },
        {
          "output_type": "stream",
          "text": [
            "100%|██████████| 891/891 [01:16<00:00, 11.72it/s]\n",
            "  0%|          | 0/784 [00:00<?, ?it/s]"
          ],
          "name": "stderr"
        },
        {
          "output_type": "stream",
          "text": [
            "Loss: 0.08585778618103111\n",
            "Epoch 5 of 7\n",
            "Begin iterating over training dataset\n"
          ],
          "name": "stdout"
        },
        {
          "output_type": "stream",
          "text": [
            "100%|██████████| 784/784 [05:37<00:00,  2.32it/s]\n",
            "  0%|          | 1/891 [00:00<01:55,  7.72it/s]"
          ],
          "name": "stderr"
        },
        {
          "output_type": "stream",
          "text": [
            "Begin iterating over validation dataset\n"
          ],
          "name": "stdout"
        },
        {
          "output_type": "stream",
          "text": [
            "100%|██████████| 891/891 [01:14<00:00, 11.97it/s]\n",
            "  0%|          | 0/784 [00:00<?, ?it/s]"
          ],
          "name": "stderr"
        },
        {
          "output_type": "stream",
          "text": [
            "Loss: 0.08582710430226972\n",
            "Epoch 6 of 7\n",
            "Begin iterating over training dataset\n"
          ],
          "name": "stdout"
        },
        {
          "output_type": "stream",
          "text": [
            "100%|██████████| 784/784 [05:33<00:00,  2.35it/s]\n",
            "  0%|          | 1/891 [00:00<01:52,  7.90it/s]"
          ],
          "name": "stderr"
        },
        {
          "output_type": "stream",
          "text": [
            "Begin iterating over validation dataset\n"
          ],
          "name": "stdout"
        },
        {
          "output_type": "stream",
          "text": [
            "100%|██████████| 891/891 [01:14<00:00, 11.94it/s]\n",
            "  0%|          | 0/784 [00:00<?, ?it/s]"
          ],
          "name": "stderr"
        },
        {
          "output_type": "stream",
          "text": [
            "Loss: 0.08708943978412438\n",
            "Epoch 7 of 7\n",
            "Begin iterating over training dataset\n"
          ],
          "name": "stdout"
        },
        {
          "output_type": "stream",
          "text": [
            "100%|██████████| 784/784 [05:30<00:00,  2.37it/s]\n",
            "  0%|          | 1/891 [00:00<01:53,  7.81it/s]"
          ],
          "name": "stderr"
        },
        {
          "output_type": "stream",
          "text": [
            "Begin iterating over validation dataset\n"
          ],
          "name": "stdout"
        },
        {
          "output_type": "stream",
          "text": [
            "100%|██████████| 891/891 [01:12<00:00, 12.21it/s]\n"
          ],
          "name": "stderr"
        },
        {
          "output_type": "stream",
          "text": [
            "Loss: 0.08662982962495233\n"
          ],
          "name": "stdout"
        },
        {
          "output_type": "display_data",
          "data": {
            "image/png": "[encoded data removed]",
            "text/plain": [
              "<Figure size 432x288 with 1 Axes>"
            ]
          },
          "metadata": {
            "tags": [],
            "needs_background": "light"
          }
        }
      ]
    },
    {
      "cell_type": "code",
      "metadata": {
        "id": "CiLrpsNEK7bJ"
      },
      "source": [
        "model.save('/content/drive/MyDrive/nfl_impact_detection/model_weights.pth')"
      ],
      "execution_count": null,
      "outputs": []
    },
    {
      "cell_type": "code",
      "metadata": {
        "id": "Om6JOrmliacz"
      },
      "source": [
        "from detecto import core, utils, visualize\r\n",
        "from detecto.core import Model\r\n",
        "\r\n",
        "model = Model.load('/content/drive/MyDrive/nfl_impact_detection/model_weights.pth', ['Helmet'])"
      ],
      "execution_count": 1,
      "outputs": []
    },
    {
      "cell_type": "code",
      "metadata": {
        "id": "TO_4Zs_cwJRG"
      },
      "source": [
        "import cv2\r\n",
        "import matplotlib.patches as patches\r\n",
        "import matplotlib.pyplot as plt\r\n",
        "import torch\r\n",
        "\r\n",
        "from detecto.utils import reverse_normalize, normalize_transform, _is_iterable\r\n",
        "from torchvision import transforms\r\n",
        "\r\n",
        "def detect_video(model, input_file, output_file, fps=30, score_filter=0.6):\r\n",
        "    \"\"\"Takes in a video and produces an output video with object detection\r\n",
        "    run on it (i.e. displays boxes around detected objects in real-time).\r\n",
        "    Output videos should have the .avi file extension. Note: some apps,\r\n",
        "    such as macOS's QuickTime Player, have difficulty viewing these\r\n",
        "    output videos. It's recommended that you download and use\r\n",
        "    `VLC <https://www.videolan.org/vlc/index.html>`_ if this occurs.\r\n",
        "    :param model: The trained model with which to run object detection.\r\n",
        "    :type model: detecto.core.Model\r\n",
        "    :param input_file: The path to the input video.\r\n",
        "    :type input_file: str\r\n",
        "    :param output_file: The name of the output file. Should have a .avi\r\n",
        "        file extension.\r\n",
        "    :type output_file: str\r\n",
        "    :param fps: (Optional) Frames per second of the output video.\r\n",
        "        Defaults to 30.\r\n",
        "    :type fps: int\r\n",
        "    :param score_filter: (Optional) Minimum score required to show a\r\n",
        "        prediction. Defaults to 0.6.\r\n",
        "    :type score_filter: float\r\n",
        "    **Example**::\r\n",
        "        >>> from detecto.core import Model\r\n",
        "        >>> from detecto.visualize import detect_video\r\n",
        "        >>> model = Model.load('model_weights.pth', ['tick', 'gate'])\r\n",
        "        >>> detect_video(model, 'input_vid.mp4', 'output_vid.avi', score_filter=0.7)\r\n",
        "    \"\"\"\r\n",
        "\r\n",
        "    # Read in the video\r\n",
        "    video = cv2.VideoCapture(input_file)\r\n",
        "\r\n",
        "    # Video frame dimensions\r\n",
        "    frame_width = int(video.get(cv2.CAP_PROP_FRAME_WIDTH))\r\n",
        "    frame_height = int(video.get(cv2.CAP_PROP_FRAME_HEIGHT))\r\n",
        "\r\n",
        "    # Scale down frames when passing into model for faster speeds\r\n",
        "    scaled_size = 800\r\n",
        "    scale_down_factor = min(frame_height, frame_width) / scaled_size\r\n",
        "\r\n",
        "    # The VideoWriter with which we'll write our video with the boxes and labels\r\n",
        "    # Parameters: filename, fourcc, fps, frame_size\r\n",
        "    out = cv2.VideoWriter(output_file, cv2.VideoWriter_fourcc(*'DIVX'), fps, (frame_width, frame_height))\r\n",
        "\r\n",
        "    # Transform to apply on individual frames of the video\r\n",
        "    transform_frame = transforms.Compose([  # TODO Issue #16\r\n",
        "        transforms.ToPILImage(),\r\n",
        "        transforms.Resize(scaled_size),\r\n",
        "        transforms.ToTensor(),\r\n",
        "        normalize_transform(),\r\n",
        "    ])\r\n",
        "\r\n",
        "    # Loop through every frame of the video\r\n",
        "    while True:\r\n",
        "        ret, frame = video.read()\r\n",
        "        # Stop the loop when we're done with the video\r\n",
        "        if not ret:\r\n",
        "            break\r\n",
        "\r\n",
        "        # The transformed frame is what we'll feed into our model\r\n",
        "        transformed_frame = transform_frame(frame)\r\n",
        "        # transformed_frame = frame  # TODO: Issue #16\r\n",
        "        predictions = model.predict(transformed_frame)\r\n",
        "\r\n",
        "        # Add the top prediction of each class to the frame\r\n",
        "        for label, box, score in zip(*predictions):\r\n",
        "            if score < score_filter:\r\n",
        "                continue\r\n",
        "\r\n",
        "            # Since the predictions are for scaled down frames,\r\n",
        "            # we need to increase the box dimensions\r\n",
        "            box *= scale_down_factor  # TODO Issue #16\r\n",
        "\r\n",
        "            # Create the box around each object detected\r\n",
        "            # Parameters: frame, (start_x, start_y), (end_x, end_y), (r, g, b), thickness\r\n",
        "            cv2.rectangle(frame, (box[0], box[1]), (box[2], box[3]), (255, 0, 0), 3)\r\n",
        "\r\n",
        "            # Write the label and score for the boxes\r\n",
        "            # Parameters: frame, text, (start_x, start_y), font, font scale, (r, g, b), thickness\r\n",
        "            cv2.putText(frame, '{}: {}'.format(label, round(score.item(), 2)), (box[0], box[1] - 10),\r\n",
        "                        cv2.FONT_HERSHEY_SIMPLEX, 1, (255, 0, 0), 3)\r\n",
        "\r\n",
        "        # Write this frame to our video file\r\n",
        "        out.write(frame)\r\n",
        "\r\n",
        "        # If the 'q' key is pressed, break from the loop\r\n",
        "        key = cv2.waitKey(1) & 0xFF\r\n",
        "        if key == ord('q'):\r\n",
        "            break\r\n",
        "\r\n",
        "    # When finished, release the video capture and writer objects\r\n",
        "    video.release()\r\n",
        "    out.release()\r\n",
        "\r\n",
        "    # Close all the frames\r\n",
        "    cv2.destroyAllWindows()"
      ],
      "execution_count": 2,
      "outputs": []
    },
    {
      "cell_type": "code",
      "metadata": {
        "id": "fRubUZfhzjl4"
      },
      "source": [
        "import pandas as pd\r\n",
        "\r\n",
        "def detect_video_df(model, input_file, \r\n",
        "                 gameKey, \r\n",
        "                 playID,\r\n",
        "                 view,\r\n",
        "                 videoname, \r\n",
        "                 fps=30, score_filter=0.6):\r\n",
        "\r\n",
        "    # Read in the video\r\n",
        "    dictionary = {'gameKey': [],\r\n",
        "                  'playID': [],\r\n",
        "                  'view': [],\r\n",
        "                  'video':[],\r\n",
        "                  'frame': [],\r\n",
        "                  'left': [],\r\n",
        "                  'width': [],\r\n",
        "                  'top': [],\r\n",
        "                  'height': []}\r\n",
        "    video = cv2.VideoCapture(input_file)\r\n",
        "\r\n",
        "    # Video frame dimensions\r\n",
        "    frame_width = int(video.get(cv2.CAP_PROP_FRAME_WIDTH))\r\n",
        "    frame_height = int(video.get(cv2.CAP_PROP_FRAME_HEIGHT))\r\n",
        "\r\n",
        "    # Scale down frames when passing into model for faster speeds\r\n",
        "    scaled_size = 800\r\n",
        "    scale_down_factor = min(frame_height, frame_width) / scaled_size\r\n",
        "\r\n",
        "    # The VideoWriter with which we'll write our video with the boxes and labels\r\n",
        "    # Parameters: filename, fourcc, fps, frame_size\r\n",
        "    \r\n",
        "\r\n",
        "    # Transform to apply on individual frames of the video\r\n",
        "    transform_frame = transforms.Compose([  # TODO Issue #16\r\n",
        "        transforms.ToPILImage(),\r\n",
        "        transforms.Resize(scaled_size),\r\n",
        "        transforms.ToTensor(),\r\n",
        "        normalize_transform(),\r\n",
        "    ])\r\n",
        "\r\n",
        "    # Loop through every frame of the video\r\n",
        "    i = 1\r\n",
        "    while True:\r\n",
        "        ret, frame = video.read()\r\n",
        "        # Stop the loop when we're done with the video\r\n",
        "        if not ret:\r\n",
        "            break\r\n",
        "\r\n",
        "        # The transformed frame is what we'll feed into our model\r\n",
        "        transformed_frame = transform_frame(frame)\r\n",
        "        # transformed_frame = frame  # TODO: Issue #16\r\n",
        "        predictions = model.predict(transformed_frame)\r\n",
        "\r\n",
        "        # Add the top prediction of each class to the frame\r\n",
        "        for label, box, score in zip(*predictions):\r\n",
        "            if score < score_filter:\r\n",
        "                continue\r\n",
        "\r\n",
        "            # Since the predictions are for scaled down frames,\r\n",
        "            # we need to increase the box dimensions\r\n",
        "            box *= scale_down_factor  # TODO Issue #16\r\n",
        "\r\n",
        "            # Create the box around each object detected\r\n",
        "            # Parameters: frame, (start_x, start_y), (end_x, end_y), (r, g, b), thickness\r\n",
        "            # cv2.rectangle(frame, (box[0], box[1]), (box[2], box[3]), (255, 0, 0), 3)\r\n",
        "            dictionary['gameKey'].append(gameKey)\r\n",
        "            dictionary['playID'].append(gameKey)\r\n",
        "            dictionary['view'].append(view)\r\n",
        "            dictionary['video'].append(videoname)\r\n",
        "            dictionary['frame'].append(i)\r\n",
        "            dictionary['left'].append(int(box[0].item()))\r\n",
        "            dictionary['width'].append(int(abs((box[0]-box[2]).item())))\r\n",
        "            dictionary['top'].append(int(box[1].item()))\r\n",
        "            dictionary['height'].append(int(abs((box[1]-box[3]).item())))\r\n",
        "            # Write the label and score for the boxes\r\n",
        "            # Parameters: frame, text, (start_x, start_y), font, font scale, (r, g, b), thickness\r\n",
        "\r\n",
        "        i += 1\r\n",
        "\r\n",
        "\r\n",
        "        # If the 'q' key is pressed, break from the loop\r\n",
        "        key = cv2.waitKey(1) & 0xFF\r\n",
        "        if key == ord('q'):\r\n",
        "            break\r\n",
        "\r\n",
        "    # When finished, release the video capture and writer objects\r\n",
        "    video.release()\r\n",
        "    output_df = pd.DataFrame.from_dict(dictionary)\r\n",
        "    # Close all the frames\r\n",
        "    cv2.destroyAllWindows()\r\n",
        "\r\n",
        "    return output_df"
      ],
      "execution_count": 3,
      "outputs": []
    },
    {
      "cell_type": "code",
      "metadata": {
        "id": "hZByatiO7T8W"
      },
      "source": [
        "df1 = detect_video_df(model, \r\n",
        "                  '/content/drive/MyDrive/nfl_impact_detection/test/57906_000718_Endzone.mp4',\r\n",
        "                  '57906', \r\n",
        "                  '718',\r\n",
        "                  'Endzone',\r\n",
        "                  '57906_000718_Endzone.mp4',  \r\n",
        "                  score_filter=0.6)\r\n",
        "\r\n",
        "df2 = detect_video_df(model, \r\n",
        "                  '/content/drive/MyDrive/nfl_impact_detection/test/57906_000718_Sideline.mp4',\r\n",
        "                  '57906', \r\n",
        "                  '718',\r\n",
        "                  'Sideline',\r\n",
        "                  '57906_000718_Sideline.mp4',  \r\n",
        "                  score_filter=0.4)\r\n",
        "\r\n",
        "df3 = detect_video_df(model, \r\n",
        "                  '/content/drive/MyDrive/nfl_impact_detection/test/57995_000109_Endzone.mp4',\r\n",
        "                  '57995', \r\n",
        "                  '109',\r\n",
        "                  'Endzone',\r\n",
        "                  '57995_000109_Endzone.mp4',  \r\n",
        "                  score_filter=0.6)\r\n",
        "\r\n",
        "df4 = detect_video_df(model, \r\n",
        "                  '/content/drive/MyDrive/nfl_impact_detection/test/57995_000109_Sideline.mp4',\r\n",
        "                  '57995', \r\n",
        "                  '109',\r\n",
        "                  'Sideline',\r\n",
        "                  '57995_000109_Sideline.mp4',  \r\n",
        "                  score_filter=0.6)\r\n",
        "\r\n",
        "df5 = detect_video_df(model, \r\n",
        "                  '/content/drive/MyDrive/nfl_impact_detection/test/58102_002798_Endzone.mp4',\r\n",
        "                  '58102', \r\n",
        "                  '2798',\r\n",
        "                  'Endzone',\r\n",
        "                  '58102_002798_Endzone.mp4',  \r\n",
        "                  score_filter=0.6)\r\n",
        "\r\n",
        "df6 = detect_video_df(model, \r\n",
        "                  '/content/drive/MyDrive/nfl_impact_detection/test/58102_002798_Sideline.mp4',\r\n",
        "                  '58102', \r\n",
        "                  '2798',\r\n",
        "                  'Sideline',\r\n",
        "                  '58102_002798_Sideline.mp4',  \r\n",
        "                  score_filter=0.5)"
      ],
      "execution_count": 4,
      "outputs": []
    },
    {
      "cell_type": "code",
      "metadata": {
        "id": "oaiG1Em18ff3"
      },
      "source": [
        "test_df = pd.concat([df1, df2, df3, df4, df5, df6], ignore_index=True)"
      ],
      "execution_count": 7,
      "outputs": []
    },
    {
      "cell_type": "code",
      "metadata": {
        "id": "6aAphTkX_dw7"
      },
      "source": [
        "test_df.to_csv('test_data.csv', index=False)"
      ],
      "execution_count": 9,
      "outputs": []
    },
    {
      "cell_type": "code",
      "metadata": {
        "id": "cTDQ-Gp7ZhMk"
      },
      "source": [
        "#from detecto.visualize import detect_video\r\n",
        "\r\n",
        "detect_video(model, '/content/drive/MyDrive/nfl_impact_detection/test/57906_000718_Endzone.mp4', 'output1.avi', score_filter=0.6)"
      ],
      "execution_count": 3,
      "outputs": []
    },
    {
      "cell_type": "code",
      "metadata": {
        "id": "oPSHoZddoKOG"
      },
      "source": [
        "#from detecto.visualize import detect_video\r\n",
        "detect_video(model, '/content/drive/MyDrive/nfl_impact_detection/test/57906_000718_Sideline.mp4', 'output2.avi', score_filter=0.35)"
      ],
      "execution_count": 11,
      "outputs": []
    },
    {
      "cell_type": "code",
      "metadata": {
        "id": "WSQVFAG0qPNf"
      },
      "source": [
        "detect_video(model, '/content/drive/MyDrive/nfl_impact_detection/test/57995_000109_Endzone.mp4', 'output3.avi', score_filter=0.6)"
      ],
      "execution_count": 10,
      "outputs": []
    },
    {
      "cell_type": "code",
      "metadata": {
        "id": "qzYyPGKDqenw"
      },
      "source": [
        "detect_video(model, '/content/drive/MyDrive/nfl_impact_detection/test/57995_000109_Sideline.mp4', 'output4.avi', score_filter=0.6)"
      ],
      "execution_count": 6,
      "outputs": []
    },
    {
      "cell_type": "code",
      "metadata": {
        "id": "Nz3kRIg4qp6Q"
      },
      "source": [
        "detect_video(model, '/content/drive/MyDrive/nfl_impact_detection/test/58102_002798_Endzone.mp4', 'output5.avi', score_filter=0.6)"
      ],
      "execution_count": 7,
      "outputs": []
    },
    {
      "cell_type": "code",
      "metadata": {
        "id": "aALeUbSqq1OB"
      },
      "source": [
        "detect_video(model, '/content/drive/MyDrive/nfl_impact_detection/test/58102_002798_Sideline.mp4', 'output6.avi', score_filter=0.5)"
      ],
      "execution_count": 12,
      "outputs": []
    },
    {
      "cell_type": "code",
      "metadata": {
        "colab": {
          "base_uri": "https://localhost:8080/",
          "height": 622,
          "referenced_widgets": [
            "ae5e7096e8cc4412944946a9ed12c541",
            "174a08c86b8544d986294c8fa7d77e92",
            "c75fa5ace6a247ff972ca4b50d6d3418",
            "46725c51946f4925820c93ad5efe210d",
            "683a930a5b804f688a1a91c2baefe57a",
            "246e08ae17b74627b34ae402a3bc8391",
            "8f2af8bba5a747049055a5e5d248667b",
            "a5ff14d3dc634af6887c194922fcf427"
          ]
        },
        "id": "LY5rFMXGxOYX",
        "outputId": "826a21cf-9c85-47aa-85f8-390cd7f26ab0"
      },
      "source": [
        "from sklearn.model_selection import KFold\r\n",
        "from copy import deepcopy\r\n",
        "from torchvision import transforms\r\n",
        "from detecto import core, utils, visualize\r\n",
        "import matplotlib.pyplot as plt\r\n",
        "import random\r\n",
        "import numpy as np\r\n",
        "import torch\r\n",
        "# Specify a list of transformations for our dataset to apply on our images\r\n",
        "transform_img = transforms.Compose([\r\n",
        "    transforms.ToPILImage(),\r\n",
        "    transforms.Resize(800),\r\n",
        "    transforms.RandomHorizontalFlip(0.5),\r\n",
        "    transforms.ToTensor(),\r\n",
        "    utils.normalize_transform(),\r\n",
        "])\r\n",
        "\r\n",
        "kf = KFold(n_splits=5)\r\n",
        "for train_index, test_index in kf.split(tr_vl_data):\r\n",
        "    tr_data = deepcopy(tr_vl_data.iloc[train_index])\r\n",
        "    vl_data = deepcopy(tr_vl_data.iloc[test_index])\r\n",
        "\r\n",
        "    frames_train = pd.unique(tr_data['filename'])\r\n",
        "    fr_train = dict(zip(frames_train, range(len(frames_train))))\r\n",
        "\r\n",
        "    frames_val = pd.unique(vl_data['filename'])\r\n",
        "    fr_val = dict(zip(frames_val, range(len(frames_val))))\r\n",
        "\r\n",
        "    tr_data['image_id'] = tr_data['filename'].apply(lambda x: fr_train[x])\r\n",
        "    vl_data['image_id'] = vl_data['filename'].apply(lambda x: fr_val[x])\r\n",
        "\r\n",
        "    tr_data.to_csv('train.csv', index=False)\r\n",
        "    vl_data.to_csv('val.csv', index=False) \r\n",
        "\r\n",
        "    random.seed(6)\r\n",
        "    np.random.seed(6)\r\n",
        "    torch.manual_seed(6)\r\n",
        "    torch.cuda.manual_seed(6)\r\n",
        "    torch.backends.cudnn.deterministic = True\r\n",
        "\r\n",
        "    dataset = core.Dataset('/content/train.csv', '/content/drive/MyDrive/nfl_impact_detection/kaggle_train_frame/', transform=transform_img)\r\n",
        "\r\n",
        "    # Create our validation dataset\r\n",
        "    val_dataset = core.Dataset('val.csv', '/content/drive/MyDrive/nfl_impact_detection/train_frame/')\r\n",
        "\r\n",
        "    # Create the loader for our training dataset\r\n",
        "    loader = core.DataLoader(dataset, batch_size=2, shuffle=True)\r\n",
        "\r\n",
        "    # Create our model, passing in all unique classes we're predicting\r\n",
        "    # Note: make sure these match exactly with the labels in the XML/CSV files!\r\n",
        "    model = core.Model(['Helmet'])\r\n",
        "\r\n",
        "    # Train the model! This step can take a while, so make sure you\r\n",
        "    # the GPU is turned on in Edit -> Notebook settings\r\n",
        "    losses = model.fit(loader, val_dataset, epochs=6, verbose=True)\r\n",
        "\r\n",
        "    # Plot the accuracy over time\r\n",
        "    plt.plot(losses)\r\n",
        "    plt.show()"
      ],
      "execution_count": null,
      "outputs": [
        {
          "output_type": "stream",
          "text": [
            "Downloading: \"https://download.pytorch.org/models/fasterrcnn_resnet50_fpn_coco-258fb6c6.pth\" to /root/.cache/torch/hub/checkpoints/fasterrcnn_resnet50_fpn_coco-258fb6c6.pth\n"
          ],
          "name": "stderr"
        },
        {
          "output_type": "display_data",
          "data": {
            "application/vnd.jupyter.widget-view+json": {
              "model_id": "ae5e7096e8cc4412944946a9ed12c541",
              "version_minor": 0,
              "version_major": 2
            },
            "text/plain": [
              "HBox(children=(FloatProgress(value=0.0, max=167502836.0), HTML(value='')))"
            ]
          },
          "metadata": {
            "tags": []
          }
        },
        {
          "output_type": "stream",
          "text": [
            "\n"
          ],
          "name": "stdout"
        },
        {
          "output_type": "stream",
          "text": [
            "\r  0%|          | 0/1574 [00:00<?, ?it/s]"
          ],
          "name": "stderr"
        },
        {
          "output_type": "stream",
          "text": [
            "Epoch 1 of 6\n",
            "Begin iterating over training dataset\n"
          ],
          "name": "stdout"
        },
        {
          "output_type": "stream",
          "text": [
            "100%|██████████| 1574/1574 [07:37<00:00,  3.44it/s]\n",
            "  0%|          | 0/893 [00:00<?, ?it/s]"
          ],
          "name": "stderr"
        },
        {
          "output_type": "stream",
          "text": [
            "Begin iterating over validation dataset\n"
          ],
          "name": "stdout"
        },
        {
          "output_type": "stream",
          "text": [
            "100%|██████████| 893/893 [01:27<00:00, 10.26it/s]\n",
            "  0%|          | 0/1574 [00:00<?, ?it/s]"
          ],
          "name": "stderr"
        },
        {
          "output_type": "stream",
          "text": [
            "Loss: 0.09380287554872213\n",
            "Epoch 2 of 6\n",
            "Begin iterating over training dataset\n"
          ],
          "name": "stdout"
        },
        {
          "output_type": "stream",
          "text": [
            " 25%|██▌       | 398/1574 [01:55<05:39,  3.47it/s]"
          ],
          "name": "stderr"
        },
        {
          "output_type": "error",
          "ename": "KeyboardInterrupt",
          "evalue": "ignored",
          "traceback": [
            "\u001b[0;31m---------------------------------------------------------------------------\u001b[0m",
            "\u001b[0;31mKeyboardInterrupt\u001b[0m                         Traceback (most recent call last)",
            "\u001b[0;32m<ipython-input-25-26c051c8e856>\u001b[0m in \u001b[0;36m<module>\u001b[0;34m()\u001b[0m\n\u001b[1;32m     53\u001b[0m     \u001b[0;31m# Train the model! This step can take a while, so make sure you\u001b[0m\u001b[0;34m\u001b[0m\u001b[0;34m\u001b[0m\u001b[0;34m\u001b[0m\u001b[0m\n\u001b[1;32m     54\u001b[0m     \u001b[0;31m# the GPU is turned on in Edit -> Notebook settings\u001b[0m\u001b[0;34m\u001b[0m\u001b[0;34m\u001b[0m\u001b[0;34m\u001b[0m\u001b[0m\n\u001b[0;32m---> 55\u001b[0;31m     \u001b[0mlosses\u001b[0m \u001b[0;34m=\u001b[0m \u001b[0mmodel\u001b[0m\u001b[0;34m.\u001b[0m\u001b[0mfit\u001b[0m\u001b[0;34m(\u001b[0m\u001b[0mloader\u001b[0m\u001b[0;34m,\u001b[0m \u001b[0mval_dataset\u001b[0m\u001b[0;34m,\u001b[0m \u001b[0mepochs\u001b[0m\u001b[0;34m=\u001b[0m\u001b[0;36m6\u001b[0m\u001b[0;34m,\u001b[0m \u001b[0mverbose\u001b[0m\u001b[0;34m=\u001b[0m\u001b[0;32mTrue\u001b[0m\u001b[0;34m)\u001b[0m\u001b[0;34m\u001b[0m\u001b[0;34m\u001b[0m\u001b[0m\n\u001b[0m\u001b[1;32m     56\u001b[0m \u001b[0;34m\u001b[0m\u001b[0m\n\u001b[1;32m     57\u001b[0m     \u001b[0;31m# Plot the accuracy over time\u001b[0m\u001b[0;34m\u001b[0m\u001b[0;34m\u001b[0m\u001b[0;34m\u001b[0m\u001b[0m\n",
            "\u001b[0;32m/usr/local/lib/python3.6/dist-packages/detecto/core.py\u001b[0m in \u001b[0;36mfit\u001b[0;34m(self, dataset, val_dataset, epochs, learning_rate, momentum, weight_decay, gamma, lr_step_size, verbose)\u001b[0m\n\u001b[1;32m    495\u001b[0m             \u001b[0;32mfor\u001b[0m \u001b[0mimages\u001b[0m\u001b[0;34m,\u001b[0m \u001b[0mtargets\u001b[0m \u001b[0;32min\u001b[0m \u001b[0miterable\u001b[0m\u001b[0;34m:\u001b[0m\u001b[0;34m\u001b[0m\u001b[0;34m\u001b[0m\u001b[0m\n\u001b[1;32m    496\u001b[0m                 \u001b[0mself\u001b[0m\u001b[0;34m.\u001b[0m\u001b[0m_convert_to_int_labels\u001b[0m\u001b[0;34m(\u001b[0m\u001b[0mtargets\u001b[0m\u001b[0;34m)\u001b[0m\u001b[0;34m\u001b[0m\u001b[0;34m\u001b[0m\u001b[0m\n\u001b[0;32m--> 497\u001b[0;31m                 \u001b[0mimages\u001b[0m\u001b[0;34m,\u001b[0m \u001b[0mtargets\u001b[0m \u001b[0;34m=\u001b[0m \u001b[0mself\u001b[0m\u001b[0;34m.\u001b[0m\u001b[0m_to_device\u001b[0m\u001b[0;34m(\u001b[0m\u001b[0mimages\u001b[0m\u001b[0;34m,\u001b[0m \u001b[0mtargets\u001b[0m\u001b[0;34m)\u001b[0m\u001b[0;34m\u001b[0m\u001b[0;34m\u001b[0m\u001b[0m\n\u001b[0m\u001b[1;32m    498\u001b[0m \u001b[0;34m\u001b[0m\u001b[0m\n\u001b[1;32m    499\u001b[0m                 \u001b[0;31m# Calculate the model's loss (i.e. how well it does on the current\u001b[0m\u001b[0;34m\u001b[0m\u001b[0;34m\u001b[0m\u001b[0;34m\u001b[0m\u001b[0m\n",
            "\u001b[0;32m/usr/local/lib/python3.6/dist-packages/detecto/core.py\u001b[0m in \u001b[0;36m_to_device\u001b[0;34m(self, images, targets)\u001b[0m\n\u001b[1;32m    609\u001b[0m     \u001b[0;31m# Sends all images and targets to the same device as the model\u001b[0m\u001b[0;34m\u001b[0m\u001b[0;34m\u001b[0m\u001b[0;34m\u001b[0m\u001b[0m\n\u001b[1;32m    610\u001b[0m     \u001b[0;32mdef\u001b[0m \u001b[0m_to_device\u001b[0m\u001b[0;34m(\u001b[0m\u001b[0mself\u001b[0m\u001b[0;34m,\u001b[0m \u001b[0mimages\u001b[0m\u001b[0;34m,\u001b[0m \u001b[0mtargets\u001b[0m\u001b[0;34m)\u001b[0m\u001b[0;34m:\u001b[0m\u001b[0;34m\u001b[0m\u001b[0;34m\u001b[0m\u001b[0m\n\u001b[0;32m--> 611\u001b[0;31m         \u001b[0mimages\u001b[0m \u001b[0;34m=\u001b[0m \u001b[0;34m[\u001b[0m\u001b[0mimage\u001b[0m\u001b[0;34m.\u001b[0m\u001b[0mto\u001b[0m\u001b[0;34m(\u001b[0m\u001b[0mself\u001b[0m\u001b[0;34m.\u001b[0m\u001b[0m_device\u001b[0m\u001b[0;34m)\u001b[0m \u001b[0;32mfor\u001b[0m \u001b[0mimage\u001b[0m \u001b[0;32min\u001b[0m \u001b[0mimages\u001b[0m\u001b[0;34m]\u001b[0m\u001b[0;34m\u001b[0m\u001b[0;34m\u001b[0m\u001b[0m\n\u001b[0m\u001b[1;32m    612\u001b[0m         \u001b[0mtargets\u001b[0m \u001b[0;34m=\u001b[0m \u001b[0;34m[\u001b[0m\u001b[0;34m{\u001b[0m\u001b[0mk\u001b[0m\u001b[0;34m:\u001b[0m \u001b[0mv\u001b[0m\u001b[0;34m.\u001b[0m\u001b[0mto\u001b[0m\u001b[0;34m(\u001b[0m\u001b[0mself\u001b[0m\u001b[0;34m.\u001b[0m\u001b[0m_device\u001b[0m\u001b[0;34m)\u001b[0m \u001b[0;32mfor\u001b[0m \u001b[0mk\u001b[0m\u001b[0;34m,\u001b[0m \u001b[0mv\u001b[0m \u001b[0;32min\u001b[0m \u001b[0mt\u001b[0m\u001b[0;34m.\u001b[0m\u001b[0mitems\u001b[0m\u001b[0;34m(\u001b[0m\u001b[0;34m)\u001b[0m\u001b[0;34m}\u001b[0m \u001b[0;32mfor\u001b[0m \u001b[0mt\u001b[0m \u001b[0;32min\u001b[0m \u001b[0mtargets\u001b[0m\u001b[0;34m]\u001b[0m\u001b[0;34m\u001b[0m\u001b[0;34m\u001b[0m\u001b[0m\n\u001b[1;32m    613\u001b[0m         \u001b[0;32mreturn\u001b[0m \u001b[0mimages\u001b[0m\u001b[0;34m,\u001b[0m \u001b[0mtargets\u001b[0m\u001b[0;34m\u001b[0m\u001b[0;34m\u001b[0m\u001b[0m\n",
            "\u001b[0;32m/usr/local/lib/python3.6/dist-packages/detecto/core.py\u001b[0m in \u001b[0;36m<listcomp>\u001b[0;34m(.0)\u001b[0m\n\u001b[1;32m    609\u001b[0m     \u001b[0;31m# Sends all images and targets to the same device as the model\u001b[0m\u001b[0;34m\u001b[0m\u001b[0;34m\u001b[0m\u001b[0;34m\u001b[0m\u001b[0m\n\u001b[1;32m    610\u001b[0m     \u001b[0;32mdef\u001b[0m \u001b[0m_to_device\u001b[0m\u001b[0;34m(\u001b[0m\u001b[0mself\u001b[0m\u001b[0;34m,\u001b[0m \u001b[0mimages\u001b[0m\u001b[0;34m,\u001b[0m \u001b[0mtargets\u001b[0m\u001b[0;34m)\u001b[0m\u001b[0;34m:\u001b[0m\u001b[0;34m\u001b[0m\u001b[0;34m\u001b[0m\u001b[0m\n\u001b[0;32m--> 611\u001b[0;31m         \u001b[0mimages\u001b[0m \u001b[0;34m=\u001b[0m \u001b[0;34m[\u001b[0m\u001b[0mimage\u001b[0m\u001b[0;34m.\u001b[0m\u001b[0mto\u001b[0m\u001b[0;34m(\u001b[0m\u001b[0mself\u001b[0m\u001b[0;34m.\u001b[0m\u001b[0m_device\u001b[0m\u001b[0;34m)\u001b[0m \u001b[0;32mfor\u001b[0m \u001b[0mimage\u001b[0m \u001b[0;32min\u001b[0m \u001b[0mimages\u001b[0m\u001b[0;34m]\u001b[0m\u001b[0;34m\u001b[0m\u001b[0;34m\u001b[0m\u001b[0m\n\u001b[0m\u001b[1;32m    612\u001b[0m         \u001b[0mtargets\u001b[0m \u001b[0;34m=\u001b[0m \u001b[0;34m[\u001b[0m\u001b[0;34m{\u001b[0m\u001b[0mk\u001b[0m\u001b[0;34m:\u001b[0m \u001b[0mv\u001b[0m\u001b[0;34m.\u001b[0m\u001b[0mto\u001b[0m\u001b[0;34m(\u001b[0m\u001b[0mself\u001b[0m\u001b[0;34m.\u001b[0m\u001b[0m_device\u001b[0m\u001b[0;34m)\u001b[0m \u001b[0;32mfor\u001b[0m \u001b[0mk\u001b[0m\u001b[0;34m,\u001b[0m \u001b[0mv\u001b[0m \u001b[0;32min\u001b[0m \u001b[0mt\u001b[0m\u001b[0;34m.\u001b[0m\u001b[0mitems\u001b[0m\u001b[0;34m(\u001b[0m\u001b[0;34m)\u001b[0m\u001b[0;34m}\u001b[0m \u001b[0;32mfor\u001b[0m \u001b[0mt\u001b[0m \u001b[0;32min\u001b[0m \u001b[0mtargets\u001b[0m\u001b[0;34m]\u001b[0m\u001b[0;34m\u001b[0m\u001b[0;34m\u001b[0m\u001b[0m\n\u001b[1;32m    613\u001b[0m         \u001b[0;32mreturn\u001b[0m \u001b[0mimages\u001b[0m\u001b[0;34m,\u001b[0m \u001b[0mtargets\u001b[0m\u001b[0;34m\u001b[0m\u001b[0;34m\u001b[0m\u001b[0m\n",
            "\u001b[0;31mKeyboardInterrupt\u001b[0m: "
          ]
        }
      ]
    }
  ]
}